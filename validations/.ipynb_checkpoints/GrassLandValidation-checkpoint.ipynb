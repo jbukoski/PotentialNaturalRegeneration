{
 "cells": [
  {
   "cell_type": "markdown",
   "metadata": {},
   "source": [
    "# Potential natural regeneration areas validation\n",
    "\n",
    "This jupyter-notebook is parto of the project and is used to validate the process of defining the potential natural regeneration areas:\n",
    "\n",
    ">This script is rganized to produce/identify areas for potential natural regeneration:\n",
    "Grass and agricultural lands (omitting natural grass lands on grasslands layer), which are not supposed to be restorable as they area [natural] grass lands.\n",
    "\n",
    ">Overlap this natural grasslands with ESA CCI 2000\n",
    "~~agriculture and~~ pasture [,join with agriculture class] and then\n",
    "get covariables for the random points.\n",
    "\n",
    "**Latter by whatsapp:**\n",
    "> Using NatGrass remove pixels that overlaps ESA2000 grasslands :. keeping only not natural grass lands which in deed was supposed to be restored.\n",
    "Then, 'merge' with agriculture;"
   ]
  },
  {
   "cell_type": "code",
   "execution_count": 3,
   "metadata": {},
   "outputs": [
    {
     "ename": "ImportError",
     "evalue": "No module named ee",
     "output_type": "error",
     "traceback": [
      "\u001b[0;31m---------------------------------------------------------------------------\u001b[0m",
      "\u001b[0;31mImportError\u001b[0m                               Traceback (most recent call last)",
      "\u001b[0;32m<ipython-input-3-c3067950ab5b>\u001b[0m in \u001b[0;36m<module>\u001b[0;34m()\u001b[0m\n\u001b[0;32m----> 1\u001b[0;31m \u001b[0;32mimport\u001b[0m \u001b[0mee\u001b[0m\u001b[0;34m\u001b[0m\u001b[0m\n\u001b[0m\u001b[1;32m      2\u001b[0m \u001b[0;32mfrom\u001b[0m \u001b[0mee\u001b[0m \u001b[0;32mimport\u001b[0m \u001b[0mbatch\u001b[0m\u001b[0;34m\u001b[0m\u001b[0m\n\u001b[1;32m      3\u001b[0m \u001b[0;32mfrom\u001b[0m \u001b[0mpprint\u001b[0m \u001b[0;32mimport\u001b[0m \u001b[0mpprint\u001b[0m\u001b[0;34m\u001b[0m\u001b[0m\n\u001b[1;32m      4\u001b[0m \u001b[0;32mimport\u001b[0m \u001b[0mwebbrowser\u001b[0m\u001b[0;34m\u001b[0m\u001b[0m\n\u001b[1;32m      5\u001b[0m \u001b[0;32mimport\u001b[0m \u001b[0mfolium\u001b[0m\u001b[0;34m\u001b[0m\u001b[0m\n",
      "\u001b[0;31mImportError\u001b[0m: No module named ee"
     ]
    }
   ],
   "source": [
    "import ee\n",
    "from ee import batch\n",
    "from pprint import pprint\n",
    "import webbrowser\n",
    "import folium\n",
    "\n",
    "# Define a method for displaying Earth Engine image tiles to folium map.\n",
    "def add_ee_layer(self, eeImageObject, visParams, name):\n",
    "  mapID = ee.Image(eeImageObject).getMapId(visParams)\n",
    "  folium.raster_layers.TileLayer(\n",
    "    tiles = \"https://earthengine.googleapis.com/map/\"+mapID['mapid']+\n",
    "      \"/{z}/{x}/{y}?token=\"+mapID['token'],\n",
    "    attr = \"Map Data © Google Earth Engine\",\n",
    "    name = name,\n",
    "    overlay = True,\n",
    "    control = True\n",
    "  ).add_to(self)\n",
    "# Add EE drawing method to folium.\n",
    "folium.Map.add_ee_layer = add_ee_layer"
   ]
  },
  {
   "cell_type": "code",
   "execution_count": 2,
   "metadata": {},
   "outputs": [],
   "source": [
    "# init EE\n",
    "ee.Initialize()\n",
    "\n",
    "# Importing data\n",
    "NaturalGrass = ee.Image(\"users/HotSpotRestoration/PotentialNaturalRegeneration/NatGrass1992\")\n",
    "CCI = ee.Image(\"users/HotSpotRestoration/ESACCI-LC-L4-LCCS-Map-300m-P1Y-1992_2015-v207\")\n",
    "elevation = ee.Image(\"USGS/SRTMGL1_003\")\n",
    "world = ee.FeatureCollection(\"USDOS/LSIB_SIMPLE/2017\")"
   ]
  },
  {
   "cell_type": "code",
   "execution_count": 3,
   "metadata": {},
   "outputs": [
    {
     "data": {
      "text/html": [
       "<div style=\"width:100%;\"><div style=\"position:relative;width:100%;height:0;padding-bottom:60%;\"><iframe src=\"data:text/html;charset=utf-8;base64,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\" style=\"position:absolute;width:100%;height:100%;left:0;top:0;border:none !important;\" allowfullscreen webkitallowfullscreen mozallowfullscreen></iframe></div></div>"
      ],
      "text/plain": [
       "<folium.folium.Map at 0x7ff9a027c3d0>"
      ]
     },
     "execution_count": 3,
     "metadata": {},
     "output_type": "execute_result"
    }
   ],
   "source": [
    "# masking where there is Natural Grass pixels\n",
    "NaturalGrassUnMask = NaturalGrass.unmask()\n",
    "NaturalGrassInverted = NaturalGrassUnMask.eq(0)\n",
    "\n",
    "# Organizing data\n",
    "CCI2000 = CCI.select(['b9'], ['PotRestArea00']) #Select landuse for year 2000\n",
    "# Masking\n",
    "CCI2000 = CCI2000.updateMask(elevation)\n",
    "\n",
    "pasto = CCI2000.eq(130)\n",
    "pasto = pasto.mask(pasto)\n",
    "PotArea2 = CCI2000.eq(130).And(NaturalGrassInverted)\n",
    "\n",
    "# Create a folium map object.\n",
    "myMap = folium.Map(location=[-29.30, -51], zoom_start=7)\n",
    "\n",
    "# Add the elevation model to the map object.\n",
    "myMap.add_ee_layer(pasto, {'min':0, 'max':1, 'palette':['white','blue']}, 'ESA CII grassland')\n",
    "myMap.add_ee_layer(NaturalGrass.mask(NaturalGrass), {'min':0, 'max':1, 'palette':['red','black']}, 'Natural Grasslands - IIS')\n",
    "myMap.add_ee_layer(PotArea2.mask(PotArea2), {'min':0, 'max':1, 'palette':['red','red']}, 'not natural Grassland')\n",
    "myMap.add_child(folium.LayerControl())\n",
    "\n",
    "myMap"
   ]
  },
  {
   "cell_type": "code",
   "execution_count": 4,
   "metadata": {},
   "outputs": [],
   "source": [
    "coords = [[-54.255145643004425, -27.90815007556519],\n",
    "          [-54.255145643004425, -31.260826008175602],\n",
    "          [-49.014667127379425, -31.260826008175602],\n",
    "          [-49.014667127379425, -27.90815007556519]]\n",
    "thumbPotNatReg = PotArea2.getThumbURL(params = {'min':0, 'max':1, 'format': 'png',\n",
    "                                          'palette': ['BDBDBD', '00A600'],\n",
    "                                          'region': coords})\n",
    "NaturalGrass = NaturalGrass.mask(elevation)\n",
    "thumbNaturalGrass = NaturalGrass.getThumbURL(params = {'min':0, 'max':1, 'format': 'png',\n",
    "                                          'palette': ['BDBDBD', 'FF0000'],\n",
    "                                          'region': coords})\n",
    "#print(thumbNaturalGrass)"
   ]
  },
  {
   "cell_type": "markdown",
   "metadata": {},
   "source": [
    "**Potential Natural Regeneration**  \n",
    "![](../img/PotNatRegAreas.png)\n",
    "\n",
    "**Natural Grasslands**  \n",
    "![](../img/NaturalGrass.png)"
   ]
  }
 ],
 "metadata": {
  "kernelspec": {
   "display_name": "Python 3",
   "language": "python",
   "name": "python3"
  },
  "language_info": {
   "codemirror_mode": {
    "name": "ipython",
    "version": 2
   },
   "file_extension": ".py",
   "mimetype": "text/x-python",
   "name": "python",
   "nbconvert_exporter": "python",
   "pygments_lexer": "ipython2",
   "version": "2.7.16"
  }
 },
 "nbformat": 4,
 "nbformat_minor": 2
}
