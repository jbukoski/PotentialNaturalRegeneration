{
 "cells": [
  {
   "cell_type": "code",
   "execution_count": 2,
   "metadata": {},
   "outputs": [
    {
     "ename": "SyntaxError",
     "evalue": "invalid syntax (<ipython-input-2-6c2ec87c8c4b>, line 1)",
     "output_type": "error",
     "traceback": [
      "\u001b[0;36m  File \u001b[0;32m\"<ipython-input-2-6c2ec87c8c4b>\"\u001b[0;36m, line \u001b[0;32m1\u001b[0m\n\u001b[0;31m    conda activate PotNatRegProj\u001b[0m\n\u001b[0m                 ^\u001b[0m\n\u001b[0;31mSyntaxError\u001b[0m\u001b[0;31m:\u001b[0m invalid syntax\n"
     ]
    }
   ],
   "source": [
    "conda activate PotNatRegProj"
   ]
  },
  {
   "cell_type": "code",
   "execution_count": 1,
   "metadata": {},
   "outputs": [
    {
     "ename": "ImportError",
     "evalue": "No module named ee",
     "output_type": "error",
     "traceback": [
      "\u001b[0;31m---------------------------------------------------------------------------\u001b[0m",
      "\u001b[0;31mImportError\u001b[0m                               Traceback (most recent call last)",
      "\u001b[0;32m<ipython-input-1-58e9e9bbf929>\u001b[0m in \u001b[0;36m<module>\u001b[0;34m()\u001b[0m\n\u001b[1;32m     11\u001b[0m \"\"\"\n\u001b[1;32m     12\u001b[0m \u001b[0;34m\u001b[0m\u001b[0m\n\u001b[0;32m---> 13\u001b[0;31m \u001b[0;32mimport\u001b[0m \u001b[0mee\u001b[0m\u001b[0;34m\u001b[0m\u001b[0m\n\u001b[0m\u001b[1;32m     14\u001b[0m \u001b[0;32mfrom\u001b[0m \u001b[0mee\u001b[0m \u001b[0;32mimport\u001b[0m \u001b[0mbatch\u001b[0m\u001b[0;34m\u001b[0m\u001b[0m\n\u001b[1;32m     15\u001b[0m \u001b[0;32mfrom\u001b[0m \u001b[0mpprint\u001b[0m \u001b[0;32mimport\u001b[0m \u001b[0mpprint\u001b[0m\u001b[0;34m\u001b[0m\u001b[0m\n",
      "\u001b[0;31mImportError\u001b[0m: No module named ee"
     ]
    }
   ],
   "source": [
    "\"\"\"\n",
    "This script is organized to produce/identify areas for potential natural regeneration:\n",
    "CCI ESA 2000 grass and agricultural lands, omitting natural grass lands layers on CCI ESA grassland class, which are not supposed to be restorable as they are natural grass lands).\n",
    "\n",
    "Overlap this natural grasslands with ESA CCI 2000\n",
    "agriculture and pasture\n",
    "\n",
    "Later by whatsapp:\n",
    "Using NatGrass remove pixels that overlaps ESA2000 grasslands :. keeping only not natural grass lands which in deed was supposed to be restored.\n",
    "Then, 'merge' with agriculture;\n",
    "\"\"\"\n",
    "\n",
    "import ee\n",
    "from ee import batch\n",
    "from pprint import pprint\n",
    "import webbrowser\n",
    "import folium"
   ]
  },
  {
   "cell_type": "code",
   "execution_count": null,
   "metadata": {},
   "outputs": [],
   "source": [
    "\n",
    "# Define a method for displaying Earth Engine image tiles to folium map.\n",
    "def add_ee_layer(self, eeImageObject, visParams, name):\n",
    "  mapID = ee.Image(eeImageObject).getMapId(visParams)\n",
    "  folium.raster_layers.TileLayer(\n",
    "    tiles = \"https://earthengine.googleapis.com/map/\"+mapID['mapid']+\n",
    "      \"/{z}/{x}/{y}?token=\"+mapID['token'],\n",
    "    attr = \"Map Data © Google Earth Engine\",\n",
    "    name = name,\n",
    "    overlay = True,\n",
    "    control = True\n",
    "  ).add_to(self)\n",
    "\n",
    "# Add EE drawing method to folium.\n",
    "folium.Map.add_ee_layer = add_ee_layer\n",
    "\n",
    "# Initialize EE\n",
    "ee.Initialize()\n",
    "\n",
    "# Importing data\n",
    "NaturalGrass = ee.Image(\"users/HotSpotRestoration/PotentialNaturalRegeneration/NatGrass1992\")\n",
    "CCI = ee.Image(\"users/HotSpotRestoration/ESACCI-LC-L4-LCCS-Map-300m-P1Y-1992_2015-v207\")\n",
    "elevation = ee.Image(\"USGS/SRTMGL1_003\")\n",
    "world = ee.FeatureCollection(\"USDOS/LSIB_SIMPLE/2017\")\n",
    "\n",
    "# Masking where there is Natural Grass pixels\n",
    "NaturalGrassUnMask = NaturalGrass.unmask()\n",
    "NaturalGrassInverted = NaturalGrassUnMask.eq(0)\n",
    "\n",
    "# Organizing data\n",
    "CCI2000 = CCI.select(['b9'], ['PotRestArea00']) # Select landuse for year 2000\n",
    "CCI2000 = CCI2000.updateMask(elevation)         # Masking\n",
    "\n",
    "# Masking landuses different than agriculture and grassland\n",
    "CCI2000 = CCI2000.where(CCI2000.eq(0), 3) # changing no data to other value so we dont have problem on masking\n",
    "NatRegAreas = CCI2000.where(CCI2000.eq(10), 999)\n",
    "NatRegAreas = NatRegAreas.where(NatRegAreas.eq(120), 999)\n",
    "NatRegAreas = NatRegAreas.where(NatRegAreas.eq(130).And(NaturalGrassInverted), 999)\n",
    "NatRegAreas = NatRegAreas.eq(999)\n",
    "NatRegAreas = NatRegAreas.mask(NatRegAreas)\n"
   ]
  },
  {
   "cell_type": "code",
   "execution_count": null,
   "metadata": {},
   "outputs": [],
   "source": [
    "# Create a folium map object.\n",
    "myMap = folium.Map(location=[-28, -46], zoom_start=6)\n",
    "\n",
    "# Add the elevation model to the map object.\n",
    "myMap.add_ee_layer(CCI2000, {'min':0, 'max':220, 'palette':['white','blue']}, 'CCI2000')\n",
    "myMap.add_ee_layer(NatRegAreas, {'min':0, 'max':1, 'palette':['red','black']}, 'NatRegAreas')\n",
    "myMap.add_ee_layer(NaturalGrass.mask(NaturalGrass), {'min':0, 'max':1, 'palette':['green','yellow']}, 'NaturalGrass')\n",
    "\n",
    "# Add a layer control panel to the map.\n",
    "myMap.add_child(folium.LayerControl())\n",
    "\n",
    "# Display the map.\n",
    "myMap.save(\"my_map.html\")\n",
    "webbrowser.open('./my_map.html')"
   ]
  },
  {
   "cell_type": "code",
   "execution_count": null,
   "metadata": {},
   "outputs": [],
   "source": [
    "\n",
    "# defyning global bound\n",
    "coords = [[-180.0, -90.0], [180,  -90.0], [180, 90], [-180,90]]\n",
    "\n",
    "# process tasks\n",
    "outNatRegAreas = batch.Export.image.toAsset(\\\n",
    "  image = NatRegAreas,\n",
    "  description = \"PotRestArea00\",\n",
    "  #description: \"Image from ESA CCI considering only pasture and grass land and disconsidering natural grasss land from IIS. pixel values = 1 considered areas for potential natural regeneration\",\n",
    "  assetId = \"users/HotSpotRestoration/PotentialNaturalRegeneration/PotRestArea00\",\n",
    "  #pyramidingPolicy,\n",
    "  #dimensions,\n",
    "  region = coords,\n",
    "  scale = 300,\n",
    "  #crs = 'EPSG:4326',\n",
    "  #crsTransform = crs_transform,\n",
    "  maxPixels = 1e13\n",
    "  )\n",
    "\n",
    "#process = batch.Task.start(outNatRegAreas)\n",
    "\n",
    "# Checking task status\n",
    "#outNatRegAreas.status()\n",
    "#pprint(batch.Task.status(outNatRegAreas))"
   ]
  }
 ],
 "metadata": {
  "kernelspec": {
   "display_name": "Python 3",
   "language": "python",
   "name": "python3"
  },
  "language_info": {
   "codemirror_mode": {
    "name": "ipython",
    "version": 2
   },
   "file_extension": ".py",
   "mimetype": "text/x-python",
   "name": "python",
   "nbconvert_exporter": "python",
   "pygments_lexer": "ipython2",
   "version": "2.7.16"
  }
 },
 "nbformat": 4,
 "nbformat_minor": 2
}
